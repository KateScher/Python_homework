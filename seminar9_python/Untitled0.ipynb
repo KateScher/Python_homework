{
  "cells": [
    {
      "attachments": {},
      "cell_type": "markdown",
      "metadata": {
        "id": "vKHyRSZTcAWJ"
      },
      "source": [
        "Задача 40: Работать с файлом california_housing_train.csv, который находится в папке\n",
        "sample_data. Определить среднюю стоимость дома, где кол-во людей от 0 до 500 (population)\n"
      ]
    },
    {
      "cell_type": "code",
      "execution_count": 1,
      "metadata": {
        "id": "yz3sk-weMue-"
      },
      "outputs": [],
      "source": [
        "import pandas as pd\n",
        "df = pd.read_csv('/content/sample_data/california_housing_train.csv')"
      ]
    },
    {
      "cell_type": "code",
      "execution_count": 2,
      "metadata": {
        "colab": {
          "base_uri": "https://localhost:8080/"
        },
        "id": "HgUJHwVWYquh",
        "outputId": "aa21157b-45cf-4791-d5ea-30dfeaa16401"
      },
      "outputs": [
        {
          "data": {
            "text/plain": [
              "206683.83635227982"
            ]
          },
          "execution_count": 2,
          "metadata": {},
          "output_type": "execute_result"
        }
      ],
      "source": [
        "df[(df['population'] > 0) & (df['population'] < 500)]['median_house_value'].mean()"
      ]
    },
    {
      "attachments": {},
      "cell_type": "markdown",
      "metadata": {
        "id": "SnnKsLa5bfxx"
      },
      "source": [
        "Задача 42: Узнать какая максимальная households в зоне минимального значения population"
      ]
    },
    {
      "cell_type": "code",
      "execution_count": 3,
      "metadata": {
        "colab": {
          "base_uri": "https://localhost:8080/"
        },
        "id": "8yDxWHAYbu-o",
        "outputId": "e17448c1-90ad-4118-d224-a66c98547e48"
      },
      "outputs": [
        {
          "data": {
            "text/plain": [
              "4.0"
            ]
          },
          "execution_count": 3,
          "metadata": {},
          "output_type": "execute_result"
        }
      ],
      "source": [
        "df[df['population'] == df['population'].min()]['households'].max()"
      ]
    }
  ],
  "metadata": {
    "colab": {
      "provenance": []
    },
    "kernelspec": {
      "display_name": "Python 3",
      "name": "python3"
    },
    "language_info": {
      "name": "python",
      "version": "3.11.4"
    }
  },
  "nbformat": 4,
  "nbformat_minor": 0
}
